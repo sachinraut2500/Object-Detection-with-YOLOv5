{
  "nbformat": 4,
  "nbformat_minor": 0,
  "metadata": {
    "colab": {
      "provenance": []
    },
    "kernelspec": {
      "name": "python3",
      "display_name": "Python 3"
    },
    "language_info": {
      "name": "python"
    }
  },
  "cells": [
    {
      "cell_type": "code",
      "execution_count": null,
      "metadata": {
        "id": "4LD5WkI-cr4f"
      },
      "outputs": [],
      "source": [
        "# object_detection_yolov5.py\n",
        "\n",
        "import torch\n",
        "import cv2\n",
        "import matplotlib.pyplot as plt\n",
        "\n",
        "def load_model():\n",
        "    model = torch.hub.load('ultralytics/yolov5', 'yolov5s', pretrained=True)\n",
        "    return model\n",
        "\n",
        "def detect_objects(image_path, model):\n",
        "    img = cv2.imread(image_path)  # BGR format\n",
        "    img_rgb = cv2.cvtColor(img, cv2.COLOR_BGR2RGB)\n",
        "\n",
        "    results = model(img_rgb)\n",
        "\n",
        "    # Render results on image\n",
        "    results.render()\n",
        "    detected_img = results.imgs[0]\n",
        "\n",
        "    plt.imshow(detected_img)\n",
        "    plt.axis('off')\n",
        "    plt.title(\"YOLOv5 Object Detection\")\n",
        "    plt.show()\n",
        "\n",
        "    # Print detected objects and confidence\n",
        "    print(results.pandas().xyxy[0][['name', 'confidence']])\n",
        "\n",
        "def main():\n",
        "    model = load_model()\n",
        "    image_path = 'test.jpg'  # Replace with your image path\n",
        "    detect_objects(image_path, model)\n",
        "\n",
        "if __name__ == \"__main__\":\n",
        "    main()\n"
      ]
    }
  ]
}